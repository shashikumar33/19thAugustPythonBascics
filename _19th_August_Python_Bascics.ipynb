{
 "cells": [
  {
   "cell_type": "code",
   "execution_count": 6,
   "id": "6213967c-88ee-4f30-ab29-679d1a2f2f42",
   "metadata": {},
   "outputs": [
    {
     "data": {
      "text/plain": [
       "'1. Declare two variables, `x` and `y`, and assign them integer values.\\nSwap the values of these variables without using any temporary\\nvariable.'"
      ]
     },
     "execution_count": 6,
     "metadata": {},
     "output_type": "execute_result"
    }
   ],
   "source": [
    " '''1. Declare two variables, `x` and `y`, and assign them integer values.\n",
    "Swap the values of these variables without using any temporary\n",
    "variable.'''"
   ]
  },
  {
   "cell_type": "code",
   "execution_count": 3,
   "id": "23453605-27f0-4c61-9284-6337f2a8f4fa",
   "metadata": {},
   "outputs": [],
   "source": [
    "x = int(10)\n",
    "y = int(20)\n",
    "\n",
    "x = x+y\n",
    "y = x-y\n",
    "x = x-y"
   ]
  },
  {
   "cell_type": "code",
   "execution_count": 4,
   "id": "7974a776-93ee-4496-8f15-be1e29072fb2",
   "metadata": {},
   "outputs": [
    {
     "data": {
      "text/plain": [
       "20"
      ]
     },
     "execution_count": 4,
     "metadata": {},
     "output_type": "execute_result"
    }
   ],
   "source": [
    "x"
   ]
  },
  {
   "cell_type": "code",
   "execution_count": 5,
   "id": "bce36257-0ec5-4b7e-86ba-1b43758cf8b7",
   "metadata": {},
   "outputs": [
    {
     "data": {
      "text/plain": [
       "10"
      ]
     },
     "execution_count": 5,
     "metadata": {},
     "output_type": "execute_result"
    }
   ],
   "source": [
    "y"
   ]
  },
  {
   "cell_type": "code",
   "execution_count": 7,
   "id": "f03df05f-4a19-44a6-8b0c-1dbd0c1469d1",
   "metadata": {},
   "outputs": [
    {
     "data": {
      "text/plain": [
       "' 2. Create a program that calculates the area of a rectangle. Take the\\nlength and width as inputs from the user and store them in variables.\\nCalculate and display the area. '"
      ]
     },
     "execution_count": 7,
     "metadata": {},
     "output_type": "execute_result"
    }
   ],
   "source": [
    "''' 2. Create a program that calculates the area of a rectangle. Take the\n",
    "length and width as inputs from the user and store them in variables.\n",
    "Calculate and display the area. '''"
   ]
  },
  {
   "cell_type": "code",
   "execution_count": 21,
   "id": "3a698826-046f-4757-b9b7-eb3fd037e279",
   "metadata": {},
   "outputs": [
    {
     "name": "stdin",
     "output_type": "stream",
     "text": [
      "Enter a length of rectangle 4.5\n",
      "Enter a width of rectangle 6.5\n"
     ]
    },
    {
     "name": "stdout",
     "output_type": "stream",
     "text": [
      "The area of the rectangle of length  4.5 and width  6.5 is 29.25\n"
     ]
    }
   ],
   "source": [
    "Length = float(input(\"Enter a length of rectangle\"))\n",
    "Width  = float(input(\"Enter a width of rectangle\"))\n",
    "Area   = Length * Width\n",
    "\n",
    "print(\"The area of the rectangle of length \",Length,\"and width \" ,Width, \"is\", Area)"
   ]
  },
  {
   "cell_type": "code",
   "execution_count": 17,
   "id": "06acca20-b404-4b7e-921a-52ff408073fb",
   "metadata": {},
   "outputs": [
    {
     "data": {
      "text/plain": [
       "'3. Write a Python program that converts temperature from Celsius to\\nFahrenheit. Take the temperature in Celsius as input, store it in a\\nvariable, convert it to Fahrenheit, and display the result. '"
      ]
     },
     "execution_count": 17,
     "metadata": {},
     "output_type": "execute_result"
    }
   ],
   "source": [
    "'''3. Write a Python program that converts temperature from Celsius to\n",
    "Fahrenheit. Take the temperature in Celsius as input, store it in a\n",
    "variable, convert it to Fahrenheit, and display the result. '''\n"
   ]
  },
  {
   "cell_type": "code",
   "execution_count": 20,
   "id": "24a9cb8c-6287-4364-aa49-eb710d865a39",
   "metadata": {},
   "outputs": [
    {
     "name": "stdin",
     "output_type": "stream",
     "text": [
      "Enter temperature in celsius 45\n"
     ]
    },
    {
     "name": "stdout",
     "output_type": "stream",
     "text": [
      "the temperature in fahrenheit is  113.0 degree\n"
     ]
    }
   ],
   "source": [
    "celsius = float(input(\"Enter temperature in celsius\"))\n",
    "fahrenheit = (celsius*9/5)+32\n",
    "print(\"the temperature in fahrenheit is \",fahrenheit, \"degree\" )"
   ]
  },
  {
   "cell_type": "code",
   "execution_count": 22,
   "id": "b161e8d7-d7ce-48b5-8d74-990c64704bb3",
   "metadata": {},
   "outputs": [],
   "source": [
    " # TOPIC: String Based Questions\n"
   ]
  },
  {
   "cell_type": "code",
   "execution_count": 23,
   "id": "6306e531-7ccc-4126-92dc-55afbbbab8be",
   "metadata": {},
   "outputs": [
    {
     "data": {
      "text/plain": [
       "' 1. Write a Python program that takes a string as input and prints the\\nlength of the string. '"
      ]
     },
     "execution_count": 23,
     "metadata": {},
     "output_type": "execute_result"
    }
   ],
   "source": [
    "''' 1. Write a Python program that takes a string as input and prints the\n",
    "length of the string. '''"
   ]
  },
  {
   "cell_type": "code",
   "execution_count": 24,
   "id": "f24bc676-5e05-41c9-a4dd-31950ddab6ad",
   "metadata": {},
   "outputs": [
    {
     "name": "stdin",
     "output_type": "stream",
     "text": [
      "enter a string shashi\n"
     ]
    },
    {
     "name": "stdout",
     "output_type": "stream",
     "text": [
      "the length of string is  6\n"
     ]
    }
   ],
   "source": [
    "string = input(\"enter a string\")\n",
    "length = len(string)\n",
    "print(\"the length of string is \" ,length )"
   ]
  },
  {
   "cell_type": "code",
   "execution_count": 25,
   "id": "55cbd860-c1af-4a0e-a50e-44a02b19b6a8",
   "metadata": {},
   "outputs": [
    {
     "data": {
      "text/plain": [
       "'2. Create a program that takes a sentence from the user and counts the\\nnumber of vowels (a, e, i, o, u) in the string.'"
      ]
     },
     "execution_count": 25,
     "metadata": {},
     "output_type": "execute_result"
    }
   ],
   "source": [
    "'''2. Create a program that takes a sentence from the user and counts the\n",
    "number of vowels (a, e, i, o, u) in the string.'''"
   ]
  },
  {
   "cell_type": "code",
   "execution_count": 28,
   "id": "fbf607d0-8067-40d0-9021-41b0bab066da",
   "metadata": {},
   "outputs": [
    {
     "name": "stdin",
     "output_type": "stream",
     "text": [
      "write a sentence I AM A STUDENT OF PWSKILLS\n"
     ]
    },
    {
     "name": "stdout",
     "output_type": "stream",
     "text": [
      "the no of vowles is  7\n"
     ]
    }
   ],
   "source": [
    "sentence = input(\"write a sentence\")\n",
    "sentence = sentence.lower() #.lower is used to convert the sentence in lower case\n",
    "vowel_count = 0\n",
    "for char in sentence: #for is used for loop\n",
    "    if char in \"aeiou\": #this condition is used for to check every single line ,is there  any vowel?\n",
    "        vowel_count += 1 #adding 1 if condition is true\n",
    "print(\"the no of vowles is \" ,vowel_count )"
   ]
  },
  {
   "cell_type": "code",
   "execution_count": 29,
   "id": "fda51976-6bc5-4c4b-9a81-ef56f1de349e",
   "metadata": {},
   "outputs": [
    {
     "data": {
      "text/plain": [
       "' 3. Given a string, reverse the order of characters using string slicing and\\nprint the reversed string. '"
      ]
     },
     "execution_count": 29,
     "metadata": {},
     "output_type": "execute_result"
    }
   ],
   "source": [
    "''' 3. Given a string, reverse the order of characters using string slicing and\n",
    "print the reversed string. '''"
   ]
  },
  {
   "cell_type": "code",
   "execution_count": 50,
   "id": "4f597ba5-7638-46cb-9c5f-595e66732379",
   "metadata": {},
   "outputs": [
    {
     "name": "stdin",
     "output_type": "stream",
     "text": [
      "enter a string pwsskills\n"
     ]
    },
    {
     "name": "stdout",
     "output_type": "stream",
     "text": [
      "the reverse string is  slliksswp\n"
     ]
    }
   ],
   "source": [
    "string = input(\"enter a string\")\n",
    "reverse_string = string[::-1] # this index[::-1] for reversing the word\n",
    "print(\"the reverse string is \", reverse_string)"
   ]
  },
  {
   "cell_type": "code",
   "execution_count": 33,
   "id": "28fddac4-764f-464c-b7c7-894af35146b8",
   "metadata": {},
   "outputs": [
    {
     "data": {
      "text/plain": [
       "'4. Write a program that takes a string as input and checks if it is a\\npalindrome (reads the same forwards and backwards).'"
      ]
     },
     "execution_count": 33,
     "metadata": {},
     "output_type": "execute_result"
    }
   ],
   "source": [
    "'''4. Write a program that takes a string as input and checks if it is a\n",
    "palindrome (reads the same forwards and backwards).'''"
   ]
  },
  {
   "cell_type": "code",
   "execution_count": 46,
   "id": "da47f91c-a174-467a-8051-24556104af9c",
   "metadata": {},
   "outputs": [
    {
     "name": "stdin",
     "output_type": "stream",
     "text": [
      "enter a string MOM  \n"
     ]
    },
    {
     "name": "stdout",
     "output_type": "stream",
     "text": [
      "the string is palindrome\n"
     ]
    }
   ],
   "source": [
    "string = input(\"enter a string\")\n",
    "string = string.lower().replace(\" \",\"\") #this (.lower) function is used to covert lower char and (.remove)to remove space from string\n",
    "reverse_string= string[::-1]\n",
    "if new_string==reverse_string :\n",
    "    print(\"the string is palindrome\")\n",
    "else:\n",
    "    print(\"not a palindrome\")"
   ]
  },
  {
   "cell_type": "code",
   "execution_count": 47,
   "id": "7bb2553b-1e78-40a0-9e93-14d89e2ac3d6",
   "metadata": {},
   "outputs": [
    {
     "data": {
      "text/plain": [
       "' 5. Create a program that takes a string as input and removes all the\\nspaces from it. Print the modified string without spaces.'"
      ]
     },
     "execution_count": 47,
     "metadata": {},
     "output_type": "execute_result"
    }
   ],
   "source": [
    "''' 5. Create a program that takes a string as input and removes all the\n",
    "spaces from it. Print the modified string without spaces.'''"
   ]
  },
  {
   "cell_type": "code",
   "execution_count": 49,
   "id": "dd398ffb-e187-4c14-9271-dbb263f1aeb5",
   "metadata": {},
   "outputs": [
    {
     "name": "stdin",
     "output_type": "stream",
     "text": [
      "enter a string i am student of pwskills\n"
     ]
    },
    {
     "name": "stdout",
     "output_type": "stream",
     "text": [
      "the modified string is  iamstudentofpwskills\n"
     ]
    }
   ],
   "source": [
    "string = input(\"enter a string\")\n",
    "new_string = string.replace(\" \",\"\") #this(.replace) function is used to remove space\n",
    "print(\"the modified string is \", new_string)"
   ]
  },
  {
   "cell_type": "code",
   "execution_count": null,
   "id": "ac33c498-4651-44d8-93f2-1c30473f322c",
   "metadata": {},
   "outputs": [],
   "source": []
  }
 ],
 "metadata": {
  "kernelspec": {
   "display_name": "Python 3 (ipykernel)",
   "language": "python",
   "name": "python3"
  },
  "language_info": {
   "codemirror_mode": {
    "name": "ipython",
    "version": 3
   },
   "file_extension": ".py",
   "mimetype": "text/x-python",
   "name": "python",
   "nbconvert_exporter": "python",
   "pygments_lexer": "ipython3",
   "version": "3.10.8"
  }
 },
 "nbformat": 4,
 "nbformat_minor": 5
}
